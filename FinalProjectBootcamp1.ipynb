{
  "nbformat": 4,
  "nbformat_minor": 0,
  "metadata": {
    "colab": {
      "provenance": []
    },
    "kernelspec": {
      "name": "python3",
      "display_name": "Python 3"
    },
    "language_info": {
      "name": "python"
    }
  },
  "cells": [
    {
      "cell_type": "code",
      "source": [
        "print(\"THIS IS YOUR INTRO\\nThis is my new line\")\n",
        "character = input(\"Type a character name: \")\n",
        "gold = 0\n",
        "\n",
        "\n"
      ],
      "metadata": {
        "colab": {
          "base_uri": "https://localhost:8080/"
        },
        "id": "pMOgKwP5ZYA2",
        "outputId": "33ad12ea-e47c-4d90-baec-35548a023cf2"
      },
      "execution_count": null,
      "outputs": [
        {
          "name": "stdout",
          "output_type": "stream",
          "text": [
            "THIS IS YOUR INTRO\n",
            "This is my new line\n",
            "Type a character name: bob\n"
          ]
        }
      ]
    },
    {
      "cell_type": "code",
      "source": [
        "age = 7\n",
        "print(\"I am \" , age , \" years old.\")"
      ],
      "metadata": {
        "colab": {
          "base_uri": "https://localhost:8080/"
        },
        "id": "UyoxFVhDbdal",
        "outputId": "196eda2d-db36-4863-f9de-9ffc032ef173"
      },
      "execution_count": null,
      "outputs": [
        {
          "output_type": "stream",
          "name": "stdout",
          "text": [
            "I am  7  years old.\n"
          ]
        }
      ]
    }
  ]
}